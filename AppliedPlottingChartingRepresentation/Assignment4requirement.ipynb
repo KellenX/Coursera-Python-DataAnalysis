{
 "cells": [
  {
   "cell_type": "markdown",
   "metadata": {},
   "source": [
    "# Assignment 4\n",
    "\n",
    "Before working on this assignment please read these instructions fully. In the submission area, you will notice that you can click the link to **Preview the Grading** for each step of the assignment. This is the criteria that will be used for peer grading. Please familiarize yourself with the criteria before beginning the assignment.\n",
    "\n",
    "This assignment requires that you to find **at least** two datasets on the web which are related, and that you visualize these datasets to answer a question with the broad topic of **weather phenomena** (see below) for the region of **Philadelphia, Pennsylvania, United States**, or **United States** more broadly.\n",
    "\n",
    "You can merge these datasets with data from different regions if you like! For instance, you might want to compare **Philadelphia, Pennsylvania, United States** to Ann Arbor, USA. In that case at least one source file must be about **Philadelphia, Pennsylvania, United States**.\n",
    "\n",
    "You are welcome to choose datasets at your discretion, but keep in mind **they will be shared with your peers**, so choose appropriate datasets. Sensitive, confidential, illicit, and proprietary materials are not good choices for datasets for this assignment. You are welcome to upload datasets of your own as well, and link to them using a third party repository such as github, bitbucket, pastebin, etc. Please be aware of the Coursera terms of service with respect to intellectual property.\n",
    "\n",
    "Also, you are welcome to preserve data in its original language, but for the purposes of grading you should provide english translations. You are welcome to provide multiple visuals in different languages if you would like!\n",
    "\n",
    "As this assignment is for the whole course, you must incorporate principles discussed in the first week, such as having as high data-ink ratio (Tufte) and aligning with Cairo’s principles of truth, beauty, function, and insight.\n",
    "\n",
    "Here are the assignment instructions:\n",
    "\n",
    " * State the region and the domain category that your data sets are about (e.g., **Philadelphia, Pennsylvania, United States** and **weather phenomena**).\n",
    " * You must state a question about the domain category and region that you identified as being interesting.\n",
    " * You must provide at least two links to available datasets. These could be links to files such as CSV or Excel files, or links to websites which might have data in tabular form, such as Wikipedia pages.\n",
    " * You must upload an image which addresses the research question you stated. In addition to addressing the question, this visual should follow Cairo's principles of truthfulness, functionality, beauty, and insightfulness.\n",
    " * You must contribute a short (1-2 paragraph) written justification of how your visualization addresses your stated research question.\n",
    "\n",
    "What do we mean by **weather phenomena**?  For this category you might want to consider seasonal changes, natural disasters, or historical trends.\n",
    "\n",
    "## Tips\n",
    "* Wikipedia is an excellent source of data, and I strongly encourage you to explore it for new data sources.\n",
    "* Many governments run open data initiatives at the city, region, and country levels, and these are wonderful resources for localized data sources.\n",
    "* Several international agencies, such as the [United Nations](http://data.un.org/), the [World Bank](http://data.worldbank.org/), the [Global Open Data Index](http://index.okfn.org/place/) are other great places to look for data.\n",
    "* This assignment requires you to convert and clean datafiles. Check out the discussion forums for tips on how to do this from various sources, and share your successes with your fellow students!\n",
    "\n",
    "## Example\n",
    "Looking for an example? Here's what our course assistant put together for the **Ann Arbor, MI, USA** area using **sports and athletics** as the topic. [Example Solution File](./Assignment4_example.pdf)"
   ]
  },
  {
   "cell_type": "code",
   "execution_count": null,
   "metadata": {
    "collapsed": true
   },
   "outputs": [],
   "source": [
    "%matplotlib inline\n",
    "\n",
    "import matplotlib.pyplot as plt\n",
    "import pandas as pd\n",
    "import numpy as np\n",
    "\n",
    "df = pd.read_csv('data/C2A2_data/BinnedCsvs_d400/54564f582a1e2ed17aa949761e38d8401540eade3da47a1631b97a84.csv')\n",
    "df.sort(['ID','Date'])\n",
    "df['Year'], df['Month-Date'] = zip(*df['Date'].apply(lambda x: (x[:4], x[5:])))\n",
    "df = df[df['Month-Date'] != '02-29']\n",
    "\n",
    "\n",
    "'''\n",
    "temp_min = df[(df['Element'] == 'TMIN') & (df['Year'] != '2015')] \\\n",
    ".groupby('Month-Date').aggregate({'Data_Value':np.min})\n",
    "temp_max = df[(df['Element'] == 'TMAX') & (df['Year'] != '2015')] \\\n",
    ".groupby('Month-Date').aggregate({'Data_Value':np.max})\n",
    "'''\n",
    "temp_min = df[(df['Element'] == 'TMIN')].groupby('Month-Date').aggregate({'Data_Value':np.min})\n",
    "temp_max = df[(df['Element'] == 'TMAX')].groupby('Month-Date').aggregate({'Data_Value':np.max})\n",
    "temp_mean = (temp_min + temp_max)/2\n",
    "\n",
    "'''\n",
    "temp_min_15 = df[(df['Element'] == 'TMIN') & (df['Year'] == '2015')] \\\n",
    ".groupby('Month-Date').aggregate({'Data_Value':np.min})\n",
    "temp_max_15 = df[(df['Element'] == 'TMAX') & (df['Year'] == '2015')] \\\n",
    ".groupby('Month-Date').aggregate({'Data_Value':np.max})\n",
    "'''\n",
    "\n",
    "'''\n",
    "broken_min = np.where(temp_min_15['Data_Value'] < temp_min['Data_Value'])[0]\n",
    "broken_max = np.where(temp_max_15['Data_Value'] > temp_max['Data_Value'])[0]\n",
    "broken_max, broken_min\n",
    "'''"
   ]
  },
  {
   "cell_type": "code",
   "execution_count": null,
   "metadata": {
    "collapsed": true
   },
   "outputs": [],
   "source": [
    "fig = plt.figure()\n",
    "plt.plot(temp_min.values, 'b', label = 'record low', alpha = 0.6)\n",
    "#plt.scatter(broken_min, temp_min_15.iloc[broken_min], s = 10, c = 'b', label = 'broken low')\n",
    "#plt.scatter(broken_max, temp_max_15.iloc[broken_max], s = 10, c = 'r', label = 'broken high')\n",
    "#plt.gca().axis([-5, 370, -450, 550])\n",
    "plt.xticks(range(0, len(temp_min), 20), temp_min.index[range(0, len(temp_min), 20)], rotation = '45')\n",
    "plt.xlabel('Year')\n",
    "plt.ylabel('Temperature (tenths of degrees C)')\n",
    "plt.title('Temperature Summary \\n near Philadelphia, PA, US')\n",
    "plt.legend(loc = 8, frameon = False, fontsize = 8)\n",
    "#plt.gca().fill_between(range(len(temp_min)), temp_min['Data_Value'], temp_max['Data_Value'], facecolor = 'salmon', alpha = 0.1)\n",
    "plt.gca().spines['top'].set_visible(False)\n",
    "plt.gca().spines['right'].set_visible(False)\n",
    "plt.show()"
   ]
  }
 ],
 "metadata": {
  "kernelspec": {
   "display_name": "Python 3",
   "language": "python",
   "name": "python3"
  },
  "language_info": {
   "codemirror_mode": {
    "name": "ipython",
    "version": 3
   },
   "file_extension": ".py",
   "mimetype": "text/x-python",
   "name": "python",
   "nbconvert_exporter": "python",
   "pygments_lexer": "ipython3",
   "version": "3.6.3"
  }
 },
 "nbformat": 4,
 "nbformat_minor": 1
}
